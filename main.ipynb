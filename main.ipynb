{
 "cells": [
  {
   "cell_type": "code",
   "execution_count": null,
   "metadata": {},
   "outputs": [],
   "source": [
    "IMG_NAME = \"real_test\"\n",
    "import os\n",
    "try:\n",
    "    os.mkdir(f\"imgs/{IMG_NAME}\")\n",
    "    os.mkdir(f\"imgs/{IMG_NAME}/tmp\")\n",
    "except FileExistsError:\n",
    "    pass"
   ]
  },
  {
   "cell_type": "code",
   "execution_count": null,
   "metadata": {},
   "outputs": [],
   "source": [
    "from deskew import determine_skew\n",
    "import numpy as np\n",
    "import cv2\n",
    "from typing import Union, Tuple\n",
    "import math\n",
    "\n",
    "def rotate(\n",
    "        image: np.ndarray, angle: float, background: Union[int, Tuple[int, int, int]]\n",
    ") -> np.ndarray:\n",
    "    old_width, old_height = image.shape[:2]\n",
    "    angle_radian = math.radians(angle)\n",
    "    width = abs(np.sin(angle_radian) * old_height) + abs(np.cos(angle_radian) * old_width)\n",
    "    height = abs(np.sin(angle_radian) * old_width) + abs(np.cos(angle_radian) * old_height)\n",
    "\n",
    "    image_center = tuple(np.array(image.shape[1::-1]) / 2)\n",
    "    rot_mat = cv2.getRotationMatrix2D(image_center, angle, 1.0)\n",
    "    rot_mat[1, 2] += (width - old_width) / 2\n",
    "    rot_mat[0, 2] += (height - old_height) / 2\n",
    "    return cv2.warpAffine(image, rot_mat, (int(round(height)), int(round(width))), borderValue=background)"
   ]
  },
  {
   "cell_type": "code",
   "execution_count": null,
   "metadata": {},
   "outputs": [],
   "source": [
    "image = cv2.imread(f'imgs/{IMG_NAME}.jpg')\n",
    "blur_image = cv2.GaussianBlur(image, (9,9), 0)\n",
    "binary = cv2.cvtColor(blur_image, cv2.COLOR_BGR2GRAY)\n",
    "binary = cv2.adaptiveThreshold(binary, 255, cv2.ADAPTIVE_THRESH_MEAN_C, cv2.THRESH_BINARY, 9, 5)\n",
    "cv2.imwrite(f'imgs/{IMG_NAME}/binary.jpg', binary)"
   ]
  },
  {
   "cell_type": "code",
   "execution_count": null,
   "metadata": {},
   "outputs": [],
   "source": [
    "angle = determine_skew(binary)\n",
    "rotated = rotate(binary, angle, (255,255,255))\n",
    "cv2.imwrite(f'imgs/{IMG_NAME}/rotated.jpg', rotated)"
   ]
  },
  {
   "cell_type": "code",
   "execution_count": null,
   "metadata": {},
   "outputs": [],
   "source": [
    "def check_acc_range(value, mean, std, acc=1):\n",
    "    return mean - acc * std < value < mean + acc * std"
   ]
  },
  {
   "cell_type": "code",
   "execution_count": null,
   "metadata": {},
   "outputs": [],
   "source": [
    "image.shape"
   ]
  },
  {
   "cell_type": "code",
   "execution_count": null,
   "metadata": {},
   "outputs": [],
   "source": [
    "mser = cv2.MSER_create()\n",
    "# regions, _ = mser.detectRegions(canny)\n",
    "regions, _ = mser.detectRegions(rotated)\n",
    "rects = [cv2.boundingRect(p.reshape(-1, 1, 2)) for p in regions]\n",
    "rects = list(set(rects))\n",
    "margin_side = 10\n",
    "margin_top = 0\n",
    "width_avg = np.mean(list(map(lambda x: x[2], rects)))\n",
    "width_std = np.std(list(map(lambda x: x[2], rects)))\n",
    "height_avg = np.mean(list(map(lambda x: x[3], rects)))\n",
    "height_std = np.std(list(map(lambda x: x[3], rects)))\n",
    "\n",
    "rects = list(filter(lambda x: check_acc_range(x[2], width_avg, width_std) and check_acc_range(x[3], height_avg, height_std), rects))\n",
    "\n",
    "merged_rects = []\n",
    "rects = list(map(lambda y: (y[0]-margin_side, y[1]-margin_top, y[0]+y[2]+(2*margin_side), y[1]+y[3]+(2*margin_top)),sorted(rects, key=lambda x: x[1])))\n",
    "margin_show = image.copy()\n",
    "margin_show = rotate(margin_show, angle, (255,255,255))\n",
    "\n",
    "for rect in rects:\n",
    "    cv2.rectangle(margin_show, (rect[0], rect[1]), (rect[2], rect[3]), (0, 255, 0), 2)\n",
    "cv2.imwrite(f'imgs/{IMG_NAME}/margin.jpg', margin_show)\n",
    "for i, rect in enumerate(rects):\n",
    "    j = i+1\n",
    "    while j < len(rects):\n",
    "        if rect[3] < rects[j][1]:\n",
    "            break\n",
    "        if (rect[0] <= rects[j][2] and rect[2] >= rects[j][0]) or (rect[2] >= rects[j][0] and rect[0] <= rects[j][2]):\n",
    "            rect = (min(rect[0], rects[j][0]), min(rect[1], rects[j][1]), max(rect[2], rects[j][2]), max(rect[3], rects[j][3]))\n",
    "            rects.pop(j)\n",
    "            j = i\n",
    "        j += 1\n",
    "    merged_rects.append(rect)\n",
    "\n",
    "copy = image.copy()\n",
    "copy = rotate(copy, angle, (255,255,255))\n",
    "for rect in merged_rects:\n",
    "    cv2.rectangle(copy, (rect[0]+margin_side, rect[1]+margin_top), (rect[2]-margin_side, rect[3]-margin_top), (0, 255, 0), 2)\n",
    "cv2.imwrite(f'imgs/{IMG_NAME}/merged_rects.jpg', copy)"
   ]
  },
  {
   "cell_type": "code",
   "execution_count": null,
   "metadata": {},
   "outputs": [],
   "source": [
    "def blur_data(data, length=3):\n",
    "    blurred = []\n",
    "\n",
    "    def average(data, start, end):\n",
    "        total = 0\n",
    "        for i in range(start, end+1):\n",
    "            total += data[i]\n",
    "        return total / (end - start + 1)\n",
    "    \n",
    "    for i in range(length // 2, len(data)- length // 2):\n",
    "        blurred.append(average(data, i - length // 2, i + length // 2))\n",
    "\n",
    "    for i in range(length // 2):\n",
    "        blurred.insert(i, data[i])\n",
    "        blurred.append(data[-i-1])\n",
    "\n",
    "    return blurred"
   ]
  },
  {
   "cell_type": "code",
   "execution_count": null,
   "metadata": {},
   "outputs": [],
   "source": [
    "# array check\n",
    "x_heatmap = [0 for _ in range(copy.shape[1])]\n",
    "y_heatmap = [0 for _ in range(copy.shape[0])]\n",
    "\n",
    "for (x1, y1, x2, y2) in merged_rects:\n",
    "    x_heatmap[x1:x2] = [i + 1 for i in x_heatmap[x1:x2]]\n",
    "    y_heatmap[y1:y2] = [i + 1 for i in y_heatmap[y1:y2]]\n",
    "\n",
    "x_heatmap_avg = sum(x_heatmap) / len(x_heatmap)\n",
    "x_heatmap_std = np.std(x_heatmap)\n",
    "y_heatmap_avg = sum(y_heatmap) / len(y_heatmap)\n",
    "y_heatmap_std = np.std(y_heatmap)\n",
    "\n",
    "x_min = x_heatmap_avg #- x_heatmap_std\n",
    "y_min = y_heatmap_avg #- y_heatmap_std\n",
    "\n",
    "x_heatmap_0 = blur_data(x_heatmap, 51)\n",
    "y_heatmap_0 = blur_data(y_heatmap, 51)\n",
    "\n",
    "# show graph of width and height with matplotlib\n",
    "import matplotlib.pyplot as plt\n",
    "fig = plt.figure(figsize=(20, 15))\n",
    "fig.suptitle('Heatmap of width and height', fontsize=16)\n",
    "ax1 = fig.add_subplot(2, 1, 1)\n",
    "ax1.set_title('width heatmap')\n",
    "#ax1.plot(x_heatmap, color='b')\n",
    "ax1.plot(x_heatmap_0, color='g')\n",
    "ax1.axhline(y=x_min, color='r', linestyle='-', label='average')\n",
    "ax2 = fig.add_subplot(2, 1, 2)\n",
    "ax2.set_title('height heatmap')\n",
    "#ax2.plot(y_heatmap, color='b')\n",
    "ax2.plot(y_heatmap_0, color='g')\n",
    "ax2.axhline(y=y_min, color='r', linestyle='-', label='average')\n",
    "plt.show()\n",
    "\n",
    "# show image with heatmap\n",
    "import matplotlib.image as mpimg\n",
    "img = mpimg.imread(f'imgs/{IMG_NAME}/rotated.jpg')\n",
    "plt.imshow(img)\n",
    "twoD_data = [[ 0 for _ in range(len(x_heatmap_0))] for _ in range(len(y_heatmap_0))]\n",
    "for i in range(len(x_heatmap_0)):\n",
    "    for j in range(len(y_heatmap_0)):\n",
    "        twoD_data[j][i] = x_heatmap_0[i] + y_heatmap_0[j]\n",
    "plt.imshow(twoD_data, alpha=0.5, cmap='hot')\n",
    "plt.colorbar()\n",
    "plt.show()"
   ]
  },
  {
   "cell_type": "code",
   "execution_count": null,
   "metadata": {},
   "outputs": [],
   "source": [
    "x_array_range = []\n",
    "start = None\n",
    "end = None\n",
    "for i in range(0, len(x_heatmap)):\n",
    "    if x_heatmap[i] >= x_min and start is None:\n",
    "        start = i\n",
    "    if x_heatmap[i] < x_min and start is not None:\n",
    "        end = i\n",
    "        x_array_range.append((start, end))\n",
    "        start = None\n",
    "        end = None\n",
    "\n",
    "x_array_range"
   ]
  },
  {
   "cell_type": "code",
   "execution_count": null,
   "metadata": {},
   "outputs": [],
   "source": [
    "images = []\n",
    "base_image = image.copy()\n",
    "base_image = rotate(base_image, angle, (255,255,255))\n",
    "base_image = cv2.cvtColor(base_image, cv2.COLOR_BGR2GRAY)\n",
    "base_image = cv2.adaptiveThreshold(base_image, 255, cv2.ADAPTIVE_THRESH_MEAN_C, cv2.THRESH_BINARY, 9, 5)\n",
    "for i, rect in enumerate(merged_rects):\n",
    "    result = []\n",
    "    cv2.imwrite(f'imgs/{IMG_NAME}/tmp/rect_{i}.jpg', base_image[rect[1]-10:rect[3]+10, rect[0]+margin_side:rect[2]-margin_side])\n",
    "    result.append(f'imgs/{IMG_NAME}/tmp/rect_{i}.jpg')\n",
    "    result.append(rect)\n",
    "    images.append(result)"
   ]
  },
  {
   "cell_type": "markdown",
   "metadata": {},
   "source": [
    "## OCR"
   ]
  },
  {
   "cell_type": "code",
   "execution_count": null,
   "metadata": {},
   "outputs": [],
   "source": [
    "import ray\n",
    "\n",
    "ray.init()"
   ]
  },
  {
   "cell_type": "code",
   "execution_count": null,
   "metadata": {},
   "outputs": [],
   "source": [
    "from main import PororoOcr"
   ]
  },
  {
   "cell_type": "code",
   "execution_count": null,
   "metadata": {},
   "outputs": [],
   "source": [
    "@ray.remote\n",
    "def ocr_run(path):\n",
    "    ocr = PororoOcr()\n",
    "    ocr.run_ocr(path, debug=False)\n",
    "    return ocr.get_ocr_result()"
   ]
  },
  {
   "cell_type": "code",
   "execution_count": null,
   "metadata": {},
   "outputs": [],
   "source": [
    "results = ray.get([ocr_run.remote(image[0]) for image in images])"
   ]
  },
  {
   "cell_type": "code",
   "execution_count": null,
   "metadata": {},
   "outputs": [],
   "source": [
    "result = []\n",
    "for i in results:\n",
    "    for j in i['bounding_poly']:\n",
    "        tmp = []\n",
    "        tmp.append(j['description'])\n",
    "        \n",
    "print(result)"
   ]
  }
 ],
 "metadata": {
  "kernelspec": {
   "display_name": ".venv",
   "language": "python",
   "name": "python3"
  },
  "language_info": {
   "codemirror_mode": {
    "name": "ipython",
    "version": 3
   },
   "file_extension": ".py",
   "mimetype": "text/x-python",
   "name": "python",
   "nbconvert_exporter": "python",
   "pygments_lexer": "ipython3",
   "version": "3.7.4"
  },
  "orig_nbformat": 4
 },
 "nbformat": 4,
 "nbformat_minor": 2
}
